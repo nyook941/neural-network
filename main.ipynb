{
 "cells": [
  {
   "cell_type": "code",
   "execution_count": 1,
   "metadata": {},
   "outputs": [
    {
     "name": "stdout",
     "output_type": "stream",
     "text": [
      "{\n",
      " Neurons: [\n",
      "  { activation: 1, bias: 0 }\n",
      "  { activation: 1, bias: 0 }\n",
      "  { activation: 1, bias: 0 }\n",
      " ]\n",
      " Weights:\n",
      "  None\n",
      "}\n",
      " {\n",
      " Neurons: [\n",
      "  { activation: 0.06132540029342992, bias: 0 }\n",
      " ]\n",
      " Weights:\n",
      "  [[1.5251274159826191, -2.1122461255875353, 0.6484441098983461]]\n",
      "}\n",
      " {\n",
      " Neurons: [\n",
      "  { activation: 0, bias: 0 }\n",
      " ]\n",
      " Weights:\n",
      "  [[-2.7291867932982603]]\n",
      "}\n"
     ]
    }
   ],
   "source": [
    "from Neural_Network import NeuralNetwork"
   ]
  },
  {
   "cell_type": "code",
   "execution_count": 2,
   "metadata": {},
   "outputs": [
    {
     "name": "stdout",
     "output_type": "stream",
     "text": [
      "{\n",
      " Neurons: [\n",
      "  { activation: 0.5196556052752181, bias: 0 }\n",
      " ]\n",
      " Weights:\n",
      "  [[0.1917537900653534]]\n",
      "}\n"
     ]
    },
    {
     "ename": "TypeError",
     "evalue": "object of type 'Layer' has no len()",
     "output_type": "error",
     "traceback": [
      "\u001b[1;31m---------------------------------------------------------------------------\u001b[0m",
      "\u001b[1;31mTypeError\u001b[0m                                 Traceback (most recent call last)",
      "Cell \u001b[1;32mIn[2], line 2\u001b[0m\n\u001b[0;32m      1\u001b[0m nn \u001b[38;5;241m=\u001b[39m NeuralNetwork([\u001b[38;5;241m1\u001b[39m], [\u001b[38;5;241m1\u001b[39m], \u001b[38;5;241m1\u001b[39m)\n\u001b[1;32m----> 2\u001b[0m \u001b[38;5;28mprint\u001b[39m(\u001b[43mnn\u001b[49m\u001b[38;5;241;43m.\u001b[39;49m\u001b[43mcalculateCost\u001b[49m\u001b[43m(\u001b[49m\u001b[43m[\u001b[49m\u001b[38;5;241;43m1\u001b[39;49m\u001b[43m]\u001b[49m\u001b[43m)\u001b[49m)\n",
      "File \u001b[1;32mc:\\Users\\Kennan\\projects\\neural-network\\Neural_Network.py:19\u001b[0m, in \u001b[0;36mNeuralNetwork.calculateCost\u001b[1;34m(self, expectedOutputs)\u001b[0m\n\u001b[0;32m     17\u001b[0m outputLayer \u001b[38;5;241m=\u001b[39m \u001b[38;5;28mself\u001b[39m\u001b[38;5;241m.\u001b[39mlayers[\u001b[38;5;241m-\u001b[39m\u001b[38;5;241m1\u001b[39m]\n\u001b[0;32m     18\u001b[0m \u001b[38;5;28mprint\u001b[39m(outputLayer)\n\u001b[1;32m---> 19\u001b[0m \u001b[38;5;28;01mif\u001b[39;00m \u001b[38;5;28mlen\u001b[39m(expectedOutputs) \u001b[38;5;241m!=\u001b[39m \u001b[38;5;28;43mlen\u001b[39;49m\u001b[43m(\u001b[49m\u001b[43moutputLayer\u001b[49m\u001b[43m)\u001b[49m:\n\u001b[0;32m     20\u001b[0m     \u001b[38;5;28;01mraise\u001b[39;00m \u001b[38;5;167;01mValueError\u001b[39;00m(\u001b[38;5;124mf\u001b[39m\u001b[38;5;124m\"\u001b[39m\u001b[38;5;124mExpected array of length \u001b[39m\u001b[38;5;132;01m{\u001b[39;00m\u001b[38;5;28mlen\u001b[39m(outputLayer)\u001b[38;5;132;01m}\u001b[39;00m\u001b[38;5;124m for parameter \u001b[39m\u001b[38;5;124m'\u001b[39m\u001b[38;5;124mexpectedOutputs\u001b[39m\u001b[38;5;124m'\u001b[39m\u001b[38;5;124m but got length \u001b[39m\u001b[38;5;132;01m{\u001b[39;00m\u001b[38;5;28mlen\u001b[39m(expectedOutputs)\u001b[38;5;132;01m}\u001b[39;00m\u001b[38;5;124m instead\u001b[39m\u001b[38;5;124m\"\u001b[39m)\n\u001b[0;32m     22\u001b[0m \u001b[38;5;28msum\u001b[39m \u001b[38;5;241m=\u001b[39m \u001b[38;5;241m0\u001b[39m\n",
      "\u001b[1;31mTypeError\u001b[0m: object of type 'Layer' has no len()"
     ]
    }
   ],
   "source": [
    "nn = NeuralNetwork([1], [1], 1)\n",
    "print(nn.calculateCost([1]))"
   ]
  }
 ],
 "metadata": {
  "kernelspec": {
   "display_name": "Python 3",
   "language": "python",
   "name": "python3"
  },
  "language_info": {
   "codemirror_mode": {
    "name": "ipython",
    "version": 3
   },
   "file_extension": ".py",
   "mimetype": "text/x-python",
   "name": "python",
   "nbconvert_exporter": "python",
   "pygments_lexer": "ipython3",
   "version": "3.12.5"
  }
 },
 "nbformat": 4,
 "nbformat_minor": 2
}
