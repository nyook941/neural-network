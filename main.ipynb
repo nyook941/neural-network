{
 "cells": [
  {
   "cell_type": "code",
   "execution_count": 7,
   "metadata": {},
   "outputs": [],
   "source": [
    "from Neural_Network import NeuralNetwork"
   ]
  },
  {
   "cell_type": "code",
   "execution_count": 8,
   "metadata": {},
   "outputs": [
    {
     "name": "stdout",
     "output_type": "stream",
     "text": [
      "{\n",
      " Neurons: [\n",
      "  { activation: 1, bias: 0 }\n",
      " ]\n",
      " Weights:\n",
      "  None\n",
      "}\n",
      " {\n",
      " Neurons: [\n",
      "  { activation: 0.4774703910938499, bias: 0 }\n",
      " ]\n",
      " Weights:\n",
      "  [[0.4774703910938499]]\n",
      "}\n",
      " {\n",
      " Neurons: [\n",
      "  { activation: 0, bias: 0 }\n",
      " ]\n",
      " Weights:\n",
      "  [[-0.49387547006655635]]\n",
      "}\n",
      " {\n",
      " Neurons: [\n",
      "  { activation: 0, bias: 0 }\n",
      " ]\n",
      " Weights:\n",
      "  [[-0.1669339649897183]]\n",
      "}\n"
     ]
    }
   ],
   "source": [
    "nn = NeuralNetwork([1], [1, 1], 1)\n",
    "print(nn)"
   ]
  }
 ],
 "metadata": {
  "kernelspec": {
   "display_name": "Python 3",
   "language": "python",
   "name": "python3"
  },
  "language_info": {
   "codemirror_mode": {
    "name": "ipython",
    "version": 3
   },
   "file_extension": ".py",
   "mimetype": "text/x-python",
   "name": "python",
   "nbconvert_exporter": "python",
   "pygments_lexer": "ipython3",
   "version": "3.12.5"
  }
 },
 "nbformat": 4,
 "nbformat_minor": 2
}
